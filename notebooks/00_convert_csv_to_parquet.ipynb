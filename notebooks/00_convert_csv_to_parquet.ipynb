{
 "cells": [
  {
   "cell_type": "code",
   "execution_count": 2,
   "id": "c6ac10634b53ceaf",
   "metadata": {},
   "outputs": [],
   "source": [
    "import os\n",
    "import sys\n",
    "\n",
    "project_root = os.path.abspath(os.path.join(\"..\"))\n",
    "if project_root not in sys.path:\n",
    "    sys.path.insert(0, project_root)"
   ]
  },
  {
   "cell_type": "code",
   "execution_count": 4,
   "id": "1ca1943f-844b-4ddb-8947-fb33f6c315ad",
   "metadata": {},
   "outputs": [],
   "source": [
    "import yaml\n",
    "from scripts.etl import get_spark_session, convert_csvs_to_parquet"
   ]
  },
  {
   "cell_type": "code",
   "execution_count": 5,
   "id": "f0129fb3-4b00-4606-8545-cfcb37ad2fac",
   "metadata": {},
   "outputs": [],
   "source": [
    "with open(os.path.join(project_root, \"config.yaml\"), \"r\") as f:\n",
    "    config = yaml.safe_load(f)"
   ]
  },
  {
   "cell_type": "code",
   "execution_count": 11,
   "id": "d5dcee68-5754-4076-8f12-f0d78e6659aa",
   "metadata": {},
   "outputs": [],
   "source": [
    "raw_path = os.path.join(project_root, config[\"data\"][\"raw_path\"])\n",
    "processed_path = os.path.join(project_root, config[\"data\"][\"processed_path\"])"
   ]
  },
  {
   "cell_type": "code",
   "execution_count": 13,
   "id": "c39f775c-1327-4740-be7c-0688b9c03279",
   "metadata": {
    "scrolled": true
   },
   "outputs": [
    {
     "name": "stdout",
     "output_type": "stream",
     "text": [
      "🔄 Converting: bureau_balance.csv\n"
     ]
    },
    {
     "name": "stderr",
     "output_type": "stream",
     "text": [
      "                                                                                "
     ]
    },
    {
     "name": "stdout",
     "output_type": "stream",
     "text": [
      "Saved: bureau_balance.parquet\n",
      "🔄 Converting: HomeCredit_columns_description.csv\n"
     ]
    },
    {
     "name": "stderr",
     "output_type": "stream",
     "text": [
      "25/06/06 12:08:08 WARN CSVHeaderChecker: CSV header does not conform to the schema.\n",
      " Header: , Table, Row, Description, Special\n",
      " Schema: _c0, Table, Row, Description, Special\n",
      "Expected: _c0 but found: \n",
      "CSV file: file:///home/dhruvyellanki/credit_default_risk_prediction_pipeline/data/raw/HomeCredit_columns_description.csv\n"
     ]
    },
    {
     "name": "stdout",
     "output_type": "stream",
     "text": [
      "Saved: HomeCredit_columns_description.parquet\n",
      "🔄 Converting: application_train.csv\n"
     ]
    },
    {
     "name": "stderr",
     "output_type": "stream",
     "text": [
      "25/06/06 12:08:11 WARN SparkStringUtils: Truncated the string representation of a plan since it was too large. This behavior can be adjusted by setting 'spark.sql.debug.maxToStringFields'.\n",
      "                                                                                "
     ]
    },
    {
     "name": "stdout",
     "output_type": "stream",
     "text": [
      "Saved: application_train.parquet\n",
      "🔄 Converting: installments_payments.csv\n"
     ]
    },
    {
     "name": "stderr",
     "output_type": "stream",
     "text": [
      "                                                                                "
     ]
    },
    {
     "name": "stdout",
     "output_type": "stream",
     "text": [
      "Saved: installments_payments.parquet\n",
      "🔄 Converting: bureau.csv\n"
     ]
    },
    {
     "name": "stderr",
     "output_type": "stream",
     "text": [
      "                                                                                "
     ]
    },
    {
     "name": "stdout",
     "output_type": "stream",
     "text": [
      "Saved: bureau.parquet\n",
      "🔄 Converting: previous_application.csv\n"
     ]
    },
    {
     "name": "stderr",
     "output_type": "stream",
     "text": [
      "                                                                                "
     ]
    },
    {
     "name": "stdout",
     "output_type": "stream",
     "text": [
      "Saved: previous_application.parquet\n",
      "🔄 Converting: POS_CASH_balance.csv\n"
     ]
    },
    {
     "name": "stderr",
     "output_type": "stream",
     "text": [
      "                                                                                "
     ]
    },
    {
     "name": "stdout",
     "output_type": "stream",
     "text": [
      "Saved: POS_CASH_balance.parquet\n",
      "🔄 Converting: application_test.csv\n"
     ]
    },
    {
     "name": "stderr",
     "output_type": "stream",
     "text": [
      "                                                                                "
     ]
    },
    {
     "name": "stdout",
     "output_type": "stream",
     "text": [
      "Saved: application_test.parquet\n",
      "🔄 Converting: credit_card_balance.csv\n"
     ]
    },
    {
     "name": "stderr",
     "output_type": "stream",
     "text": [
      "                                                                                "
     ]
    },
    {
     "name": "stdout",
     "output_type": "stream",
     "text": [
      "Saved: credit_card_balance.parquet\n",
      "🔄 Converting: sample_submission.csv\n",
      "Saved: sample_submission.parquet\n",
      "All CSV files converted to Parquet successfully.\n"
     ]
    },
    {
     "name": "stderr",
     "output_type": "stream",
     "text": [
      "25/06/06 14:08:39 WARN HeartbeatReceiver: Removing executor driver with no recent heartbeats: 4806632 ms exceeds timeout 120000 ms\n",
      "25/06/06 14:08:39 WARN SparkContext: Killing executors is not supported by current scheduler.\n"
     ]
    }
   ],
   "source": [
    "# Run Spark session and conversion\n",
    "spark = get_spark_session()\n",
    "convert_csvs_to_parquet(raw_path, processed_path)"
   ]
  },
  {
   "cell_type": "code",
   "execution_count": null,
   "id": "911c4027-e34e-4d0e-9d07-2778452fa888",
   "metadata": {},
   "outputs": [],
   "source": []
  },
  {
   "cell_type": "code",
   "execution_count": null,
   "id": "b86332b2-e2ed-46ef-a5d8-973274c6e1b6",
   "metadata": {},
   "outputs": [],
   "source": []
  },
  {
   "cell_type": "code",
   "execution_count": null,
   "id": "f4828e98-b673-42b4-a706-64bbd9d32fd1",
   "metadata": {},
   "outputs": [],
   "source": []
  },
  {
   "cell_type": "code",
   "execution_count": null,
   "id": "90255d23-e8de-4d1b-96ca-97d1b07f4461",
   "metadata": {},
   "outputs": [],
   "source": []
  }
 ],
 "metadata": {
  "kernelspec": {
   "display_name": "Python 3 (ipykernel)",
   "language": "python",
   "name": "python3"
  },
  "language_info": {
   "codemirror_mode": {
    "name": "ipython",
    "version": 3
   },
   "file_extension": ".py",
   "mimetype": "text/x-python",
   "name": "python",
   "nbconvert_exporter": "python",
   "pygments_lexer": "ipython3",
   "version": "3.10.18"
  }
 },
 "nbformat": 4,
 "nbformat_minor": 5
}
